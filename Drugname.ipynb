{
 "cells": [
  {
   "cell_type": "code",
   "execution_count": 5,
   "metadata": {},
   "outputs": [
    {
     "name": "stderr",
     "output_type": "stream",
     "text": [
      "C:\\Users\\lohit\\Anaconda3\\lib\\site-packages\\bs4\\__init__.py:181: UserWarning: No parser was explicitly specified, so I'm using the best available HTML parser for this system (\"lxml\"). This usually isn't a problem, but if you run this code on another system, or in a different virtual environment, it may use a different parser and behave differently.\n",
      "\n",
      "The code that caused this warning is on line 193 of the file C:\\Users\\lohit\\Anaconda3\\lib\\runpy.py. To get rid of this warning, change code that looks like this:\n",
      "\n",
      " BeautifulSoup(YOUR_MARKUP})\n",
      "\n",
      "to this:\n",
      "\n",
      " BeautifulSoup(YOUR_MARKUP, \"lxml\")\n",
      "\n",
      "  markup_type=markup_type))\n"
     ]
    }
   ],
   "source": [
    "#import the library used to query a website\n",
    "from urllib.request import urlopen\n",
    "#specify the url\n",
    "wiki = \"https://www.adlyxin.com/\"\n",
    "#Query the website and return the html to the variable 'page'\n",
    "page = urlopen(wiki)\n",
    "#import the Beautiful soup functions to parse the data returned from the website\n",
    "from bs4 import BeautifulSoup\n",
    "#Parse the html in the 'page' variable, and store it in Beautiful Soup format\n",
    "soup = BeautifulSoup(page)"
   ]
  },
  {
   "cell_type": "code",
   "execution_count": 14,
   "metadata": {
    "scrolled": true
   },
   "outputs": [
    {
     "name": "stdout",
     "output_type": "stream",
     "text": [
      "None\n",
      "None\n",
      "Read Full Important Safety Information\n",
      "Adlyxin is an injectable prescription medicine that may improve blood sugar (glucose) control in adults with type 2 diabetes, when used with diet and exercise.\n",
      "\n",
      "\n",
      "None\n",
      "if enrolled in the Sanofi Rx Savings program and taking select Sanofi diabetes products.\n",
      "None\n",
      "None\n",
      "None\n",
      "Register for the Adlyxin COACH program and get tailored information and support at no cost to you.\n",
      "None\n",
      "Get updates and information about Adlyxin to discuss with your doctor.\n",
      "None\n",
      "Adlyxin is an injectable prescription medicine that may improve blood sugar (glucose) control in adults with type 2 diabetes, when used with diet and exercise.\n",
      "None\n",
      "Show More\n",
      "None\n",
      "What is the most important information I should know about Adlyxin?\n",
      "\n",
      "\n",
      "Do not share your Adlyxin pen with other people, even if the needle has been changed. You may\n",
      "give other people a serious infection, or get a serious infection from them.\n",
      "Adlyxin can cause serious side effects, including: \n",
      "Do not use Adlyxin if you: \n",
      "Symptoms of severe allergic reaction with Adlyxin may include swelling of your face, lips, tongue, or throat, problems breathing or swallowing, severe rash or itching, fainting or feeling dizzy, and very rapid heartbeat. \n",
      "Before using Adlyxin, tell your healthcare provider if you:\n",
      "\n",
      "\n",
      "Tell your healthcare provider about all the medicines you take, including prescription medicines (especially antibiotics and birth control pills) and over-the-counter medicines (especially acetaminophen), vitamins, herbal supplements or other medicines to treat diabetes, including sulfonylureas or insulin. \n",
      "How should I use Adlyxin?\n",
      "What are the possible side effects of Adlyxin?\n",
      "Adlyxin may cause serious side effects including:\n",
      "The most common side effects of Adlyxin include:\n",
      "Show More\n",
      "None\n",
      "What is the most important information I should know about Adlyxin?\n",
      "\n",
      "\n",
      "Do not share your Adlyxin pen with other people, even if the needle has been changed. You may\n",
      "give other people a serious infection, or get a serious infection from them.\n",
      "Adlyxin can cause serious side effects, including: \n",
      "Do not use Adlyxin if you: \n",
      "Symptoms of severe allergic reaction with Adlyxin may include swelling of your face, lips, tongue, or throat, problems breathing or swallowing, severe rash or itching, fainting or feeling dizzy, and very rapid heartbeat. \n",
      "Before using Adlyxin, tell your healthcare provider if you:\n",
      "\n",
      "\n",
      "Tell your healthcare provider about all the medicines you take, including prescription medicines (especially antibiotics and birth control pills) and over-the-counter medicines (especially acetaminophen), vitamins, herbal supplements or other medicines to treat diabetes, including sulfonylureas or insulin. \n",
      "How should I use Adlyxin?\n",
      "What are the possible side effects of Adlyxin?\n",
      "Adlyxin may cause serious side effects including:\n",
      "The most common side effects of Adlyxin include:\n",
      "None\n",
      "None\n",
      "Do you wish to continue?\n",
      "None\n",
      "Click the \"Continue\" button below to go to the page you requested or click \"Cancel\" to remain on this page.\n",
      "None\n"
     ]
    }
   ],
   "source": [
    "soup.title.string\n",
    "x = soup.findAll(\"p\")\n",
    "for link in x:\n",
    "    print(link.string)"
   ]
  },
  {
   "cell_type": "code",
   "execution_count": 26,
   "metadata": {
    "collapsed": true
   },
   "outputs": [],
   "source": [
    "import xml.etree.ElementTree as etree\n",
    "import codecs\n",
    "import csv\n",
    "import time\n",
    "import os"
   ]
  },
  {
   "cell_type": "code",
   "execution_count": 27,
   "metadata": {
    "collapsed": true
   },
   "outputs": [],
   "source": [
    "PATH_WIKI_XML = 'https://www.adlyxin.com'\n",
    "FILENAME_WIKI = 'enwiki-latest-pages-articles.xml'\n",
    "FILENAME_ARTICLES = 'articles.csv'\n",
    "FILENAME_REDIRECT = 'articles_redirect.csv'\n",
    "FILENAME_TEMPLATE = 'articles_template.csv'\n",
    "ENCODING = \"utf-8\""
   ]
  },
  {
   "cell_type": "code",
   "execution_count": 28,
   "metadata": {
    "collapsed": true
   },
   "outputs": [],
   "source": [
    "# Nicely formatted time string\n",
    "def hms_string(sec_elapsed):\n",
    "    h = int(sec_elapsed / (60 * 60))\n",
    "    m = int((sec_elapsed % (60 * 60)) / 60)\n",
    "    s = sec_elapsed % 60\n",
    "    return \"{}:{:>02}:{:>05.2f}\".format(h, m, s)"
   ]
  },
  {
   "cell_type": "code",
   "execution_count": 29,
   "metadata": {
    "collapsed": true
   },
   "outputs": [],
   "source": [
    "def strip_tag_name(t):\n",
    "    t = elem.tag\n",
    "    idx = k = t.rfind(\"}\")\n",
    "    if idx != -1:\n",
    "        t = t[idx + 1:]\n",
    "    return t"
   ]
  },
  {
   "cell_type": "code",
   "execution_count": 30,
   "metadata": {
    "collapsed": true
   },
   "outputs": [],
   "source": [
    "pathWikiXML = os.path.join(PATH_WIKI_XML, FILENAME_WIKI)\n",
    "pathArticles = os.path.join(PATH_WIKI_XML, FILENAME_ARTICLES)\n",
    "pathArticlesRedirect = os.path.join(PATH_WIKI_XML, FILENAME_REDIRECT)\n",
    "pathTemplateRedirect = os.path.join(PATH_WIKI_XML, FILENAME_TEMPLATE)"
   ]
  },
  {
   "cell_type": "code",
   "execution_count": 31,
   "metadata": {
    "collapsed": true
   },
   "outputs": [],
   "source": [
    "totalCount = 0\n",
    "articleCount = 0\n",
    "redirectCount = 0\n",
    "templateCount = 0\n",
    "title = None\n",
    "start_time = time.time()"
   ]
  },
  {
   "cell_type": "code",
   "execution_count": null,
   "metadata": {
    "collapsed": true
   },
   "outputs": [],
   "source": []
  }
 ],
 "metadata": {
  "kernelspec": {
   "display_name": "Python 3",
   "language": "python",
   "name": "python3"
  },
  "language_info": {
   "codemirror_mode": {
    "name": "ipython",
    "version": 3
   },
   "file_extension": ".py",
   "mimetype": "text/x-python",
   "name": "python",
   "nbconvert_exporter": "python",
   "pygments_lexer": "ipython3",
   "version": "3.6.2"
  }
 },
 "nbformat": 4,
 "nbformat_minor": 2
}
